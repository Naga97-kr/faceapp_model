{
 "cells": [
  {
   "cell_type": "markdown",
   "id": "7bab1f03-f83e-48d6-aaf8-c70cbf62640b",
   "metadata": {},
   "source": [
    "# 데이터 가공"
   ]
  },
  {
   "cell_type": "markdown",
   "id": "6a25c43f-3b7a-4531-9ce0-c83748061af2",
   "metadata": {},
   "source": [
    "## 웹 크롤링해온 이미지 확인 및 경로 설정"
   ]
  },
  {
   "cell_type": "code",
   "execution_count": 18,
   "id": "f2ff8fc3-6d39-4cf4-aada-4bfcb84c6caa",
   "metadata": {},
   "outputs": [
    {
     "name": "stdout",
     "output_type": "stream",
     "text": [
      "232\n",
      "['강동원', '강민경', '강세련', '강형욱', '강호동', '고소영', '고준희', '공유', '곽도원', '구혜선', '권나라', '권상우', '권정열', '기리보이', '김가영', '김경호', '김고은', '김남길', '김다미', '김민주', '김민희', '김병만', '김새론', '김성균', '김세연', '김소현', '김수현', '김용만', '김우빈', '김유정', '김윤석', '김정현', '김준호', '김지민', '김지원', '김태리', '김태원', '김태희', '김향기', '김현수', '김혜수', '김희선', '김희철', '남규리', '남주혁', '노윤서', '노지선', '더콰이엇', '데프콘', '디노', '로이킴', '류승범', '류준열', '문근영', '문세윤', '문채원', '미연', '민경훈', '민효린', '박규영', '박명수', '박보검', '박보영', '박서준', '박소담', '박수진', '박신혜', '박연경', '박완규', '박중훈', '박지윤', '박해수', '박형식', '배정남', '백예린', '백종원', '버논', '범규', '뷔', '빈지노', '서강준', '서지혜', '설인아', '성시경', '소지섭', '손석구', '손예진', '손태영', '손호준', '송강', '송강호', '송승헌', '송중기', '송하영', '송혜교', '수지', '슈가', '스윙스', '신동엽', '신민아', '신세경', '신아영', '심은경', '심혜진', '아린', '아이유', '안보현', '안성기', '안유진', '안효섭', '양다일', '양세찬', '양세형', '에일리', '연정훈', '연준', '영훈', '예지', '오나라', '오나미', '오달수', '오연서', '원빈', '원우', '원진아', '윈터', '유나', '유상무', '유세윤', '유아인', '유연석', '유재석', '유해진', '윤계상', '윤아', '윤여정', '윤종신', '윤태진', '은지원', '이나영', '이나은', '이도현', '이동욱', '이민기', '이민정', '이민호', '이병헌', '이서진', '이성경', '이수근', '이수혁', '이승철', '이시영', '이영애', '이유비', '이정은', '이정재', '이종석', '이준', '이태란', '이해리', '이향', '이혜리', '이휘재', '임재범', '임지연', '임창정', '임한별', '장기하', '장동건', '장동민', '장범준', '장예원', '장원영', '재현', '전도연', '전지현', '전진', '전현무', '정국', '정우성', '정유미', '정재영', '정준하', '정지훈', '정해인', '정형돈', '제노', '제니', '조보아', '조세호', '조수애', '조슈아', '조여정', '조윤희', '조인성', '조정석', '조진웅', '주지훈', '지민', '지석진', '지수', '진', '진선규', '진지희', '차승원', '차은우', '차태현', '천우희', '최민식', '최우식', '최현욱', '최희', '침착맨', '카리나', '태연', '태현', '하정우', '하지원', '하하', '하현우', '한가인', '한소희', '한예슬', '한지민', '한효주', '허각', '허성태', '현빈', '황광희', '황정민', '휘성']\n"
     ]
    }
   ],
   "source": [
    "import cv2\n",
    "import os\n",
    "import shutil\n",
    "path_dir = './dataset/'\n",
    "\n",
    "folder_list = os.listdir(path_dir)\n",
    "cur_path = None\n",
    "print(len(folder_list))\n",
    "print(folder_list)\n",
    "\n",
    "def createFolder(directory):\n",
    "    try:\n",
    "        if not os.path.exists(directory):\n",
    "            os.makedirs(directory)\n",
    "    except OSError:\n",
    "        print ('Error: Creating directory. ' +  directory)"
   ]
  },
  {
   "cell_type": "markdown",
   "id": "64f0802a-b08d-410a-92dd-893a93a7654f",
   "metadata": {},
   "source": [
    "## 이미지를 얼굴만 보이도록 자르기"
   ]
  },
  {
   "cell_type": "code",
   "execution_count": 2,
   "id": "2a12ff9f-24b7-4e3c-8bf9-8ced51286e89",
   "metadata": {},
   "outputs": [],
   "source": [
    "import numpy as np\n",
    "import glob\n",
    "\n",
    "face_cascade = cv2.CascadeClassifier(cv2.data.haarcascades + 'haarcascade_frontalface_default.xml')\n",
    "eye_cascade = cv2.CascadeClassifier(cv2.data.haarcascades + 'haarcascade_eye.xml')"
   ]
  },
  {
   "cell_type": "code",
   "execution_count": 3,
   "id": "d1c15950-ba55-41f0-ac11-c0f9d49be62f",
   "metadata": {
    "tags": []
   },
   "outputs": [
    {
     "name": "stdout",
     "output_type": "stream",
     "text": [
      "None ./dataset/강호동/image_3.jpg\n",
      "None ./dataset/한효주/image_5.jpg\n"
     ]
    }
   ],
   "source": [
    "folderNum = 0\n",
    "for folder in folder_list:\n",
    "    picture_list = path_dir + folder + '/'\n",
    "    imgNum  = 0\n",
    "    if not os.path.isdir('./custom_dataset/'+ str(folderNum)): # 경로에 한글이 들어가면 imwrite에서 오류가 남\n",
    "        os.makedirs('./custom_dataset/'+ str(folderNum)) # 숫자폴더 생성\n",
    "    for picture in os.listdir(picture_list):\n",
    "        ff = np.fromfile(picture_list + picture, np.uint8)\n",
    "        img = cv2.imdecode(ff,cv2.IMREAD_UNCHANGED) # 한글경로 실행법\n",
    "        if img is not None:\n",
    "            rgb = cv2.cvtColor(img, cv2.COLOR_BGR2RGB) # 흑백사진을 확인할 수 있게\n",
    "            gray = cv2.cvtColor(rgb, cv2.COLOR_BGR2GRAY)\n",
    "            try :\n",
    "                faces = face_cascade.detectMultiScale(gray, 1.3,5) # 얼굴인식 불가능시 건너뛰기\n",
    "            except :\n",
    "                pass\n",
    "            for (x,y,w,h) in faces:\n",
    "                cropped = img[y - int(h / 4):y + h + int(h / 4), x - int(w / 4):x + w + int(w / 4)]\n",
    "                if cropped.size != 0:\n",
    "                    cv2.imwrite('./custom_dataset/'+ str(folderNum) + '/image_' + str(imgNum) + '.jpg', cropped) # 숫자폴더에 얼굴만 자른 사진 생성\n",
    "                else :\n",
    "                    pass\n",
    "                imgNum += 1\n",
    "        else:\n",
    "            print('imread failed',picture_list + picture)\n",
    "    os.rename('./custom_dataset/'+ str(folderNum) , './custom_dataset/'+folder) # 숫자폴더를 다시 연예인 이름으로 변경\n",
    "    folderNum += 1"
   ]
  },
  {
   "cell_type": "markdown",
   "id": "dbe19057-c8cf-44ee-b9d9-d24af883b83d",
   "metadata": {},
   "source": [
    "#### 데이터를 얼굴만 분리\n",
    "#### opencv의 한계로 이상한 사진이 섞여들어가거나 분리가 잘못된 파일이 생성됨 \n",
    "#### 손으로 직접 분리, 이상한 데이터는 삭제, 부족한 데이터는 따로 구해서 집어넣었음 (최소50장)"
   ]
  },
  {
   "cell_type": "markdown",
   "id": "8a3c232b-5995-4633-9efc-5065a147f50a",
   "metadata": {},
   "source": [
    "## train, test 폴더 생성 및 분류"
   ]
  },
  {
   "cell_type": "code",
   "execution_count": 15,
   "id": "feab487b-f19b-4e9f-801b-cdf034e7debe",
   "metadata": {},
   "outputs": [],
   "source": [
    "train_directory_list = [\n",
    "    './custom_dataset/train/',\n",
    "    './custom_dataset/test/',\n",
    "]\n",
    "\n",
    "# train,test 디렉토리 만들기\n",
    "for directory in train_directory_list:\n",
    "    if not os.path.isdir(directory):\n",
    "        os.makedirs(directory)\n",
    "\n",
    "# train, test 데이터 분리 함수\n",
    "def dataset_split(query, test_cnt, folder_name):\n",
    "    for directory in train_directory_list:\n",
    "        if not os.path.isdir(directory + '/' + folder_name):\n",
    "            os.makedirs(directory + '/' + folder_name)\n",
    "    cnt = 0\n",
    "    print(query)\n",
    "    for file_name in os.listdir(query):\n",
    "        if cnt < test_cnt:\n",
    "            print(f'[Test Dataset] {file_name}')\n",
    "            shutil.move(query + '/' + file_name, './custom_dataset/test/' +folder_name+ '/' + file_name)\n",
    "        else:\n",
    "            print(f'[Train Dataset] {file_name}')\n",
    "            shutil.move(query + '/' + file_name, './custom_dataset/train/' +folder_name+ '/' + file_name)\n",
    "        cnt += 1\n",
    "    shutil.rmtree(query)"
   ]
  },
  {
   "cell_type": "code",
   "execution_count": 16,
   "id": "535e35a2-8b37-4235-bd19-28932c283396",
   "metadata": {},
   "outputs": [],
   "source": [
    "custom_img_path = './custom_dataset/' # custom image path 설정"
   ]
  },
  {
   "cell_type": "code",
   "execution_count": 25,
   "id": "102e1ee1-9fb3-4d9c-ac24-e79f80858975",
   "metadata": {
    "collapsed": true,
    "jupyter": {
     "outputs_hidden": true
    },
    "tags": []
   },
   "outputs": [
    {
     "name": "stdout",
     "output_type": "stream",
     "text": [
      "./custom_dataset/김태리\n",
      "[Test Dataset] image_0.jpg\n",
      "[Test Dataset] image_1.jpg\n",
      "[Test Dataset] image_10.jpg\n",
      "[Test Dataset] image_11.jpg\n",
      "[Test Dataset] image_12.jpg\n",
      "[Test Dataset] image_13.jpg\n",
      "[Test Dataset] image_14.jpg\n",
      "[Test Dataset] image_15.jpg\n",
      "[Test Dataset] image_16.jpg\n",
      "[Test Dataset] image_17.jpg\n",
      "[Train Dataset] image_18.jpg\n",
      "[Train Dataset] image_19.jpg\n",
      "[Train Dataset] image_2.jpg\n",
      "[Train Dataset] image_20.jpg\n",
      "[Train Dataset] image_21.jpg\n",
      "[Train Dataset] image_22.jpg\n",
      "[Train Dataset] image_23.jpg\n",
      "[Train Dataset] image_24.jpg\n",
      "[Train Dataset] image_25.jpg\n",
      "[Train Dataset] image_26.jpg\n",
      "[Train Dataset] image_27.jpg\n",
      "[Train Dataset] image_28.jpg\n",
      "[Train Dataset] image_29.jpg\n",
      "[Train Dataset] image_3.jpg\n",
      "[Train Dataset] image_30.jpg\n",
      "[Train Dataset] image_31.jpg\n",
      "[Train Dataset] image_32.jpg\n",
      "[Train Dataset] image_33.jpg\n",
      "[Train Dataset] image_34.jpg\n",
      "[Train Dataset] image_35.jpg\n",
      "[Train Dataset] image_36.jpg\n",
      "[Train Dataset] image_37.jpg\n",
      "[Train Dataset] image_38.jpg\n",
      "[Train Dataset] image_39.jpg\n",
      "[Train Dataset] image_4.jpg\n",
      "[Train Dataset] image_40.jpg\n",
      "[Train Dataset] image_41.jpg\n",
      "[Train Dataset] image_42.jpg\n",
      "[Train Dataset] image_43.jpg\n",
      "[Train Dataset] image_44.jpg\n",
      "[Train Dataset] image_45.jpg\n",
      "[Train Dataset] image_46.jpg\n",
      "[Train Dataset] image_47.jpg\n",
      "[Train Dataset] image_48.jpg\n",
      "[Train Dataset] image_49.jpg\n",
      "[Train Dataset] image_5.jpg\n",
      "[Train Dataset] image_50.jpg\n",
      "[Train Dataset] image_51.jpg\n",
      "[Train Dataset] image_52.jpg\n",
      "[Train Dataset] image_53.jpg\n",
      "[Train Dataset] image_54.jpg\n",
      "[Train Dataset] image_55.jpg\n",
      "[Train Dataset] image_56.jpg\n",
      "[Train Dataset] image_57.jpg\n",
      "[Train Dataset] image_58.jpg\n",
      "[Train Dataset] image_59.jpg\n",
      "[Train Dataset] image_6.jpg\n",
      "[Train Dataset] image_60.jpg\n",
      "[Train Dataset] image_61.jpg\n",
      "[Train Dataset] image_62.jpg\n",
      "[Train Dataset] image_63.jpg\n",
      "[Train Dataset] image_64.jpg\n",
      "[Train Dataset] image_65.jpg\n",
      "[Train Dataset] image_66.jpg\n",
      "[Train Dataset] image_67.jpg\n",
      "[Train Dataset] image_68.jpg\n",
      "[Train Dataset] image_69.jpg\n",
      "[Train Dataset] image_7.jpg\n",
      "[Train Dataset] image_70.jpg\n",
      "[Train Dataset] image_71.jpg\n",
      "[Train Dataset] image_72.jpg\n",
      "[Train Dataset] image_8.jpg\n",
      "[Train Dataset] image_9.jpg\n"
     ]
    }
   ],
   "source": [
    "for i in folder_list:\n",
    "    picture_list = custom_img_path+i # 분류한 데이터가 최소 50개이므로 test 를 10개로)\n",
    "    dataset_split(picture_list, 10, i) # (datasetPATH, test갯수, 연예인이름)"
   ]
  },
  {
   "cell_type": "code",
   "execution_count": null,
   "id": "e8b126e4-47dd-4da9-b8fc-1ebbffca5419",
   "metadata": {},
   "outputs": [],
   "source": []
  }
 ],
 "metadata": {
  "kernelspec": {
   "display_name": "Python 3 (ipykernel)",
   "language": "python",
   "name": "python3"
  },
  "language_info": {
   "codemirror_mode": {
    "name": "ipython",
    "version": 3
   },
   "file_extension": ".py",
   "mimetype": "text/x-python",
   "name": "python",
   "nbconvert_exporter": "python",
   "pygments_lexer": "ipython3",
   "version": "3.9.7"
  }
 },
 "nbformat": 4,
 "nbformat_minor": 5
}
